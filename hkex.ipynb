{
 "metadata": {
  "language_info": {
   "codemirror_mode": {
    "name": "ipython",
    "version": 3
   },
   "file_extension": ".py",
   "mimetype": "text/x-python",
   "name": "python",
   "nbconvert_exporter": "python",
   "pygments_lexer": "ipython3",
   "version": "3.8.5-final"
  },
  "orig_nbformat": 2,
  "kernelspec": {
   "name": "python3",
   "display_name": "Python 3",
   "language": "python"
  }
 },
 "nbformat": 4,
 "nbformat_minor": 2,
 "cells": [
  {
   "cell_type": "code",
   "execution_count": 2,
   "metadata": {},
   "outputs": [
    {
     "output_type": "execute_result",
     "data": {
      "text/plain": [
       "            Nominal Price Net Change Change (%)    Bid    Ask P/E(x)   High  \\\n",
       "Date                                                                          \n",
       "2021-01-04          40.45       None       None  40.40  40.45   None  40.60   \n",
       "2021-01-05          40.15       None       None  40.15  40.20   None  40.55   \n",
       "2021-01-06          41.50       None       None  41.45  41.50   None  41.75   \n",
       "2021-01-07          43.40       None       None  43.40  43.45   None  43.80   \n",
       "2021-01-08          43.40       None       None  43.40  43.45   None  43.70   \n",
       "2021-01-11          43.00       None       None  42.95  43.00   None  43.25   \n",
       "2021-01-12          43.25       None       None  43.20  43.25   None  43.40   \n",
       "2021-01-13          42.75       None       None  42.75  42.80   None  43.40   \n",
       "2021-01-14          43.00       None       None  42.95  43.00   None  43.05   \n",
       "2021-01-15          42.95       None       None  42.95  43.10   None  43.30   \n",
       "2021-01-18          42.05       None       None  42.00  42.05   None  42.30   \n",
       "2021-01-19          43.80       None       None  43.80  43.85   None  43.90   \n",
       "2021-01-20          43.25       None       None  43.25  43.30   None  43.95   \n",
       "2021-01-21          44.35       None       None  44.35  44.40   None  44.80   \n",
       "2021-01-22          43.20       None       None  43.15  43.20   None  44.30   \n",
       "2021-01-25          42.80       None       None  42.80  42.90   None  43.40   \n",
       "2021-01-26          42.20       None       None  42.20  42.25   None  42.80   \n",
       "2021-01-27          42.75       None       None  42.70  42.75   None  43.40   \n",
       "2021-01-28          41.55       None       None  41.55  41.60   None  42.45   \n",
       "2021-01-29          40.95       None       None  40.95  41.00   None  41.90   \n",
       "2021-02-01          40.75       None       None  40.75  40.80   None  41.15   \n",
       "2021-02-02          40.95       None       None  40.90  40.95   None  41.10   \n",
       "2021-02-03          41.35       None       None  41.35  41.40   None  41.45   \n",
       "2021-02-04          41.00       None       None  41.00  41.05   None  42.20   \n",
       "2021-02-05          41.70       None       None  41.70  41.75   None  42.40   \n",
       "2021-02-08          41.35       None       None  41.30  41.35   None  41.95   \n",
       "2021-02-09          41.70       None       None  41.70  41.75   None  41.90   \n",
       "2021-02-10          42.60       None       None  42.60  42.65   None  43.00   \n",
       "2021-02-11          42.50       None       None  42.50  42.55   None  42.85   \n",
       "\n",
       "              Low  Previous Close  Share Volume (000)  Turnover (000) Lot Size  \n",
       "Date                                                                            \n",
       "2021-01-04  39.90           40.75             20434.0        823995.0     None  \n",
       "2021-01-05  39.75           40.45             17133.0        689834.0     None  \n",
       "2021-01-06  39.80           40.15             37779.0       1547211.0     None  \n",
       "2021-01-07  42.85           41.50             71075.0       3077993.0     None  \n",
       "2021-01-08  42.55           43.40             36759.0       1587631.0     None  \n",
       "2021-01-11  42.50           43.40             20501.0        877840.0     None  \n",
       "2021-01-12  42.75           43.00             20905.0        902157.0     None  \n",
       "2021-01-13  42.55           43.25             29411.0       1258360.0     None  \n",
       "2021-01-14  42.10           42.75             19806.0        844162.0     None  \n",
       "2021-01-15  42.70           43.00             24017.0       1032449.0     None  \n",
       "2021-01-18  41.60           42.95             35136.0       1473681.0     None  \n",
       "2021-01-19  42.20           42.05             55904.0       2425949.0     None  \n",
       "2021-01-20  43.05           43.80             29537.0       1283168.0     None  \n",
       "2021-01-21  43.30           43.25             58585.0       2596267.0     None  \n",
       "2021-01-22  43.05           44.35             26851.0       1168224.0     None  \n",
       "2021-01-25  42.50           43.20             22937.0        980902.0     None  \n",
       "2021-01-26  41.90           42.80             23091.0        974598.0     None  \n",
       "2021-01-27  42.30           42.20             19910.0        850469.0     None  \n",
       "2021-01-28  41.35           42.75             36935.0       1538707.0     None  \n",
       "2021-01-29  40.80           41.55             30805.0       1263397.0     None  \n",
       "2021-02-01  40.10           40.95             25140.0       1020815.0     None  \n",
       "2021-02-02  40.55           40.75             18958.0        773303.0     None  \n",
       "2021-02-03  40.60           40.95             22027.0        902004.0     None  \n",
       "2021-02-04  40.70           41.35             24852.0       1024065.0     None  \n",
       "2021-02-05  41.40           41.00             29839.0       1246921.0     None  \n",
       "2021-02-08  41.10           41.70             17955.0        742995.0     None  \n",
       "2021-02-09  41.25           41.35             17026.0        709238.0     None  \n",
       "2021-02-10  42.25           41.70             23428.0        998369.0     None  \n",
       "2021-02-11  42.30           42.60             10316.0        438570.0     None  "
      ],
      "text/html": "<div>\n<style scoped>\n    .dataframe tbody tr th:only-of-type {\n        vertical-align: middle;\n    }\n\n    .dataframe tbody tr th {\n        vertical-align: top;\n    }\n\n    .dataframe thead th {\n        text-align: right;\n    }\n</style>\n<table border=\"1\" class=\"dataframe\">\n  <thead>\n    <tr style=\"text-align: right;\">\n      <th></th>\n      <th>Nominal Price</th>\n      <th>Net Change</th>\n      <th>Change (%)</th>\n      <th>Bid</th>\n      <th>Ask</th>\n      <th>P/E(x)</th>\n      <th>High</th>\n      <th>Low</th>\n      <th>Previous Close</th>\n      <th>Share Volume (000)</th>\n      <th>Turnover (000)</th>\n      <th>Lot Size</th>\n    </tr>\n    <tr>\n      <th>Date</th>\n      <th></th>\n      <th></th>\n      <th></th>\n      <th></th>\n      <th></th>\n      <th></th>\n      <th></th>\n      <th></th>\n      <th></th>\n      <th></th>\n      <th></th>\n      <th></th>\n    </tr>\n  </thead>\n  <tbody>\n    <tr>\n      <th>2021-01-04</th>\n      <td>40.45</td>\n      <td>None</td>\n      <td>None</td>\n      <td>40.40</td>\n      <td>40.45</td>\n      <td>None</td>\n      <td>40.60</td>\n      <td>39.90</td>\n      <td>40.75</td>\n      <td>20434.0</td>\n      <td>823995.0</td>\n      <td>None</td>\n    </tr>\n    <tr>\n      <th>2021-01-05</th>\n      <td>40.15</td>\n      <td>None</td>\n      <td>None</td>\n      <td>40.15</td>\n      <td>40.20</td>\n      <td>None</td>\n      <td>40.55</td>\n      <td>39.75</td>\n      <td>40.45</td>\n      <td>17133.0</td>\n      <td>689834.0</td>\n      <td>None</td>\n    </tr>\n    <tr>\n      <th>2021-01-06</th>\n      <td>41.50</td>\n      <td>None</td>\n      <td>None</td>\n      <td>41.45</td>\n      <td>41.50</td>\n      <td>None</td>\n      <td>41.75</td>\n      <td>39.80</td>\n      <td>40.15</td>\n      <td>37779.0</td>\n      <td>1547211.0</td>\n      <td>None</td>\n    </tr>\n    <tr>\n      <th>2021-01-07</th>\n      <td>43.40</td>\n      <td>None</td>\n      <td>None</td>\n      <td>43.40</td>\n      <td>43.45</td>\n      <td>None</td>\n      <td>43.80</td>\n      <td>42.85</td>\n      <td>41.50</td>\n      <td>71075.0</td>\n      <td>3077993.0</td>\n      <td>None</td>\n    </tr>\n    <tr>\n      <th>2021-01-08</th>\n      <td>43.40</td>\n      <td>None</td>\n      <td>None</td>\n      <td>43.40</td>\n      <td>43.45</td>\n      <td>None</td>\n      <td>43.70</td>\n      <td>42.55</td>\n      <td>43.40</td>\n      <td>36759.0</td>\n      <td>1587631.0</td>\n      <td>None</td>\n    </tr>\n    <tr>\n      <th>2021-01-11</th>\n      <td>43.00</td>\n      <td>None</td>\n      <td>None</td>\n      <td>42.95</td>\n      <td>43.00</td>\n      <td>None</td>\n      <td>43.25</td>\n      <td>42.50</td>\n      <td>43.40</td>\n      <td>20501.0</td>\n      <td>877840.0</td>\n      <td>None</td>\n    </tr>\n    <tr>\n      <th>2021-01-12</th>\n      <td>43.25</td>\n      <td>None</td>\n      <td>None</td>\n      <td>43.20</td>\n      <td>43.25</td>\n      <td>None</td>\n      <td>43.40</td>\n      <td>42.75</td>\n      <td>43.00</td>\n      <td>20905.0</td>\n      <td>902157.0</td>\n      <td>None</td>\n    </tr>\n    <tr>\n      <th>2021-01-13</th>\n      <td>42.75</td>\n      <td>None</td>\n      <td>None</td>\n      <td>42.75</td>\n      <td>42.80</td>\n      <td>None</td>\n      <td>43.40</td>\n      <td>42.55</td>\n      <td>43.25</td>\n      <td>29411.0</td>\n      <td>1258360.0</td>\n      <td>None</td>\n    </tr>\n    <tr>\n      <th>2021-01-14</th>\n      <td>43.00</td>\n      <td>None</td>\n      <td>None</td>\n      <td>42.95</td>\n      <td>43.00</td>\n      <td>None</td>\n      <td>43.05</td>\n      <td>42.10</td>\n      <td>42.75</td>\n      <td>19806.0</td>\n      <td>844162.0</td>\n      <td>None</td>\n    </tr>\n    <tr>\n      <th>2021-01-15</th>\n      <td>42.95</td>\n      <td>None</td>\n      <td>None</td>\n      <td>42.95</td>\n      <td>43.10</td>\n      <td>None</td>\n      <td>43.30</td>\n      <td>42.70</td>\n      <td>43.00</td>\n      <td>24017.0</td>\n      <td>1032449.0</td>\n      <td>None</td>\n    </tr>\n    <tr>\n      <th>2021-01-18</th>\n      <td>42.05</td>\n      <td>None</td>\n      <td>None</td>\n      <td>42.00</td>\n      <td>42.05</td>\n      <td>None</td>\n      <td>42.30</td>\n      <td>41.60</td>\n      <td>42.95</td>\n      <td>35136.0</td>\n      <td>1473681.0</td>\n      <td>None</td>\n    </tr>\n    <tr>\n      <th>2021-01-19</th>\n      <td>43.80</td>\n      <td>None</td>\n      <td>None</td>\n      <td>43.80</td>\n      <td>43.85</td>\n      <td>None</td>\n      <td>43.90</td>\n      <td>42.20</td>\n      <td>42.05</td>\n      <td>55904.0</td>\n      <td>2425949.0</td>\n      <td>None</td>\n    </tr>\n    <tr>\n      <th>2021-01-20</th>\n      <td>43.25</td>\n      <td>None</td>\n      <td>None</td>\n      <td>43.25</td>\n      <td>43.30</td>\n      <td>None</td>\n      <td>43.95</td>\n      <td>43.05</td>\n      <td>43.80</td>\n      <td>29537.0</td>\n      <td>1283168.0</td>\n      <td>None</td>\n    </tr>\n    <tr>\n      <th>2021-01-21</th>\n      <td>44.35</td>\n      <td>None</td>\n      <td>None</td>\n      <td>44.35</td>\n      <td>44.40</td>\n      <td>None</td>\n      <td>44.80</td>\n      <td>43.30</td>\n      <td>43.25</td>\n      <td>58585.0</td>\n      <td>2596267.0</td>\n      <td>None</td>\n    </tr>\n    <tr>\n      <th>2021-01-22</th>\n      <td>43.20</td>\n      <td>None</td>\n      <td>None</td>\n      <td>43.15</td>\n      <td>43.20</td>\n      <td>None</td>\n      <td>44.30</td>\n      <td>43.05</td>\n      <td>44.35</td>\n      <td>26851.0</td>\n      <td>1168224.0</td>\n      <td>None</td>\n    </tr>\n    <tr>\n      <th>2021-01-25</th>\n      <td>42.80</td>\n      <td>None</td>\n      <td>None</td>\n      <td>42.80</td>\n      <td>42.90</td>\n      <td>None</td>\n      <td>43.40</td>\n      <td>42.50</td>\n      <td>43.20</td>\n      <td>22937.0</td>\n      <td>980902.0</td>\n      <td>None</td>\n    </tr>\n    <tr>\n      <th>2021-01-26</th>\n      <td>42.20</td>\n      <td>None</td>\n      <td>None</td>\n      <td>42.20</td>\n      <td>42.25</td>\n      <td>None</td>\n      <td>42.80</td>\n      <td>41.90</td>\n      <td>42.80</td>\n      <td>23091.0</td>\n      <td>974598.0</td>\n      <td>None</td>\n    </tr>\n    <tr>\n      <th>2021-01-27</th>\n      <td>42.75</td>\n      <td>None</td>\n      <td>None</td>\n      <td>42.70</td>\n      <td>42.75</td>\n      <td>None</td>\n      <td>43.40</td>\n      <td>42.30</td>\n      <td>42.20</td>\n      <td>19910.0</td>\n      <td>850469.0</td>\n      <td>None</td>\n    </tr>\n    <tr>\n      <th>2021-01-28</th>\n      <td>41.55</td>\n      <td>None</td>\n      <td>None</td>\n      <td>41.55</td>\n      <td>41.60</td>\n      <td>None</td>\n      <td>42.45</td>\n      <td>41.35</td>\n      <td>42.75</td>\n      <td>36935.0</td>\n      <td>1538707.0</td>\n      <td>None</td>\n    </tr>\n    <tr>\n      <th>2021-01-29</th>\n      <td>40.95</td>\n      <td>None</td>\n      <td>None</td>\n      <td>40.95</td>\n      <td>41.00</td>\n      <td>None</td>\n      <td>41.90</td>\n      <td>40.80</td>\n      <td>41.55</td>\n      <td>30805.0</td>\n      <td>1263397.0</td>\n      <td>None</td>\n    </tr>\n    <tr>\n      <th>2021-02-01</th>\n      <td>40.75</td>\n      <td>None</td>\n      <td>None</td>\n      <td>40.75</td>\n      <td>40.80</td>\n      <td>None</td>\n      <td>41.15</td>\n      <td>40.10</td>\n      <td>40.95</td>\n      <td>25140.0</td>\n      <td>1020815.0</td>\n      <td>None</td>\n    </tr>\n    <tr>\n      <th>2021-02-02</th>\n      <td>40.95</td>\n      <td>None</td>\n      <td>None</td>\n      <td>40.90</td>\n      <td>40.95</td>\n      <td>None</td>\n      <td>41.10</td>\n      <td>40.55</td>\n      <td>40.75</td>\n      <td>18958.0</td>\n      <td>773303.0</td>\n      <td>None</td>\n    </tr>\n    <tr>\n      <th>2021-02-03</th>\n      <td>41.35</td>\n      <td>None</td>\n      <td>None</td>\n      <td>41.35</td>\n      <td>41.40</td>\n      <td>None</td>\n      <td>41.45</td>\n      <td>40.60</td>\n      <td>40.95</td>\n      <td>22027.0</td>\n      <td>902004.0</td>\n      <td>None</td>\n    </tr>\n    <tr>\n      <th>2021-02-04</th>\n      <td>41.00</td>\n      <td>None</td>\n      <td>None</td>\n      <td>41.00</td>\n      <td>41.05</td>\n      <td>None</td>\n      <td>42.20</td>\n      <td>40.70</td>\n      <td>41.35</td>\n      <td>24852.0</td>\n      <td>1024065.0</td>\n      <td>None</td>\n    </tr>\n    <tr>\n      <th>2021-02-05</th>\n      <td>41.70</td>\n      <td>None</td>\n      <td>None</td>\n      <td>41.70</td>\n      <td>41.75</td>\n      <td>None</td>\n      <td>42.40</td>\n      <td>41.40</td>\n      <td>41.00</td>\n      <td>29839.0</td>\n      <td>1246921.0</td>\n      <td>None</td>\n    </tr>\n    <tr>\n      <th>2021-02-08</th>\n      <td>41.35</td>\n      <td>None</td>\n      <td>None</td>\n      <td>41.30</td>\n      <td>41.35</td>\n      <td>None</td>\n      <td>41.95</td>\n      <td>41.10</td>\n      <td>41.70</td>\n      <td>17955.0</td>\n      <td>742995.0</td>\n      <td>None</td>\n    </tr>\n    <tr>\n      <th>2021-02-09</th>\n      <td>41.70</td>\n      <td>None</td>\n      <td>None</td>\n      <td>41.70</td>\n      <td>41.75</td>\n      <td>None</td>\n      <td>41.90</td>\n      <td>41.25</td>\n      <td>41.35</td>\n      <td>17026.0</td>\n      <td>709238.0</td>\n      <td>None</td>\n    </tr>\n    <tr>\n      <th>2021-02-10</th>\n      <td>42.60</td>\n      <td>None</td>\n      <td>None</td>\n      <td>42.60</td>\n      <td>42.65</td>\n      <td>None</td>\n      <td>43.00</td>\n      <td>42.25</td>\n      <td>41.70</td>\n      <td>23428.0</td>\n      <td>998369.0</td>\n      <td>None</td>\n    </tr>\n    <tr>\n      <th>2021-02-11</th>\n      <td>42.50</td>\n      <td>None</td>\n      <td>None</td>\n      <td>42.50</td>\n      <td>42.55</td>\n      <td>None</td>\n      <td>42.85</td>\n      <td>42.30</td>\n      <td>42.60</td>\n      <td>10316.0</td>\n      <td>438570.0</td>\n      <td>None</td>\n    </tr>\n  </tbody>\n</table>\n</div>"
     },
     "metadata": {},
     "execution_count": 2
    }
   ],
   "source": [
    "# https://www.quandl.com/data/HKEX-Hong-Kong-Exchange/documentation\n",
    "import quandl\n",
    "quandl.ApiConfig.api_key = 'E6J51HCy5xdAwGGeo6n9'\n",
    "quandl.get('HKEX/00005', start_date='2021-01-02', end_date='2021-02-11')"
   ]
  },
  {
   "cell_type": "code",
   "execution_count": 11,
   "metadata": {},
   "outputs": [
    {
     "output_type": "error",
     "ename": "AttributeError",
     "evalue": "'DataFrame' object has no attribute 'DataFrame'",
     "traceback": [
      "\u001b[0;31m---------------------------------------------------------------------------\u001b[0m",
      "\u001b[0;31mAttributeError\u001b[0m                            Traceback (most recent call last)",
      "\u001b[0;32m<ipython-input-11-5f2a85c2dc3c>\u001b[0m in \u001b[0;36m<module>\u001b[0;34m\u001b[0m\n\u001b[1;32m      3\u001b[0m \u001b[0mquandl\u001b[0m\u001b[0;34m.\u001b[0m\u001b[0mApiConfig\u001b[0m\u001b[0;34m.\u001b[0m\u001b[0mapi_key\u001b[0m \u001b[0;34m=\u001b[0m \u001b[0;34m'E6J51HCy5xdAwGGeo6n9'\u001b[0m\u001b[0;34m\u001b[0m\u001b[0;34m\u001b[0m\u001b[0m\n\u001b[1;32m      4\u001b[0m \u001b[0mpd\u001b[0m \u001b[0;34m=\u001b[0m \u001b[0mquandl\u001b[0m\u001b[0;34m.\u001b[0m\u001b[0mget\u001b[0m\u001b[0;34m(\u001b[0m\u001b[0;34m'HKEX/00005'\u001b[0m\u001b[0;34m,\u001b[0m \u001b[0mstart_date\u001b[0m\u001b[0;34m=\u001b[0m\u001b[0;34m'2007-01-02'\u001b[0m\u001b[0;34m,\u001b[0m \u001b[0mend_date\u001b[0m\u001b[0;34m=\u001b[0m\u001b[0;34m'2021-02-11'\u001b[0m\u001b[0;34m)\u001b[0m\u001b[0;34m\u001b[0m\u001b[0;34m\u001b[0m\u001b[0m\n\u001b[0;32m----> 5\u001b[0;31m \u001b[0mpd\u001b[0m\u001b[0;34m.\u001b[0m\u001b[0mDataFrame\u001b[0m\u001b[0;34m(\u001b[0m\u001b[0mdata\u001b[0m\u001b[0;34m[\u001b[0m\u001b[0;34m'Nominal'\u001b[0m\u001b[0;34m]\u001b[0m\u001b[0;34m)\u001b[0m\u001b[0;34m\u001b[0m\u001b[0;34m\u001b[0m\u001b[0m\n\u001b[0m",
      "\u001b[0;32m~/opt/anaconda3/lib/python3.8/site-packages/pandas/core/generic.py\u001b[0m in \u001b[0;36m__getattr__\u001b[0;34m(self, name)\u001b[0m\n\u001b[1;32m   5137\u001b[0m             \u001b[0;32mif\u001b[0m \u001b[0mself\u001b[0m\u001b[0;34m.\u001b[0m\u001b[0m_info_axis\u001b[0m\u001b[0;34m.\u001b[0m\u001b[0m_can_hold_identifiers_and_holds_name\u001b[0m\u001b[0;34m(\u001b[0m\u001b[0mname\u001b[0m\u001b[0;34m)\u001b[0m\u001b[0;34m:\u001b[0m\u001b[0;34m\u001b[0m\u001b[0;34m\u001b[0m\u001b[0m\n\u001b[1;32m   5138\u001b[0m                 \u001b[0;32mreturn\u001b[0m \u001b[0mself\u001b[0m\u001b[0;34m[\u001b[0m\u001b[0mname\u001b[0m\u001b[0;34m]\u001b[0m\u001b[0;34m\u001b[0m\u001b[0;34m\u001b[0m\u001b[0m\n\u001b[0;32m-> 5139\u001b[0;31m             \u001b[0;32mreturn\u001b[0m \u001b[0mobject\u001b[0m\u001b[0;34m.\u001b[0m\u001b[0m__getattribute__\u001b[0m\u001b[0;34m(\u001b[0m\u001b[0mself\u001b[0m\u001b[0;34m,\u001b[0m \u001b[0mname\u001b[0m\u001b[0;34m)\u001b[0m\u001b[0;34m\u001b[0m\u001b[0;34m\u001b[0m\u001b[0m\n\u001b[0m\u001b[1;32m   5140\u001b[0m \u001b[0;34m\u001b[0m\u001b[0m\n\u001b[1;32m   5141\u001b[0m     \u001b[0;32mdef\u001b[0m \u001b[0m__setattr__\u001b[0m\u001b[0;34m(\u001b[0m\u001b[0mself\u001b[0m\u001b[0;34m,\u001b[0m \u001b[0mname\u001b[0m\u001b[0;34m:\u001b[0m \u001b[0mstr\u001b[0m\u001b[0;34m,\u001b[0m \u001b[0mvalue\u001b[0m\u001b[0;34m)\u001b[0m \u001b[0;34m->\u001b[0m \u001b[0;32mNone\u001b[0m\u001b[0;34m:\u001b[0m\u001b[0;34m\u001b[0m\u001b[0;34m\u001b[0m\u001b[0m\n",
      "\u001b[0;31mAttributeError\u001b[0m: 'DataFrame' object has no attribute 'DataFrame'"
     ]
    }
   ],
   "source": [
    "import pandas as pd\n",
    "import quandl\n",
    "quandl.ApiConfig.api_key = 'E6J51HCy5xdAwGGeo6n9'\n",
    "pd = quandl.get('HKEX/00005', start_date='2007-01-02', end_date='2021-02-11')\n",
    "pd.DataFrame(data['Nominal'])"
   ]
  },
  {
   "cell_type": "code",
   "execution_count": null,
   "metadata": {},
   "outputs": [],
   "source": [
    "import pandas as pd\n",
    "import numpy as np\n",
    "import matplotlib.pyplot as plt"
   ]
  }
 ]
}